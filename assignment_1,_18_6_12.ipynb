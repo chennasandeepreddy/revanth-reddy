{
  "nbformat": 4,
  "nbformat_minor": 0,
  "metadata": {
    "colab": {
      "name": "assignment 1, 18/6/12",
      "provenance": [],
      "authorship_tag": "ABX9TyOgoMNi0WS7VD9ZRTGYfNlU",
      "include_colab_link": true
    },
    "kernelspec": {
      "name": "python3",
      "display_name": "Python 3"
    }
  },
  "cells": [
    {
      "cell_type": "markdown",
      "metadata": {
        "id": "view-in-github",
        "colab_type": "text"
      },
      "source": [
        "<a href=\"https://colab.research.google.com/github/revanth1408/revanth-reddy/blob/master/assignment_1%2C_18_6_12.ipynb\" target=\"_parent\"><img src=\"https://colab.research.google.com/assets/colab-badge.svg\" alt=\"Open In Colab\"/></a>"
      ]
    },
    {
      "cell_type": "code",
      "metadata": {
        "id": "gk5Qxk56Jbd-",
        "colab_type": "code",
        "colab": {}
      },
      "source": [
        ""
      ],
      "execution_count": null,
      "outputs": []
    },
    {
      "cell_type": "markdown",
      "metadata": {
        "id": "pYu5799YKDYT",
        "colab_type": "text"
      },
      "source": [
        "Program to design simple calculator for operators"
      ]
    },
    {
      "cell_type": "code",
      "metadata": {
        "id": "5rCRxGCdKMou",
        "colab_type": "code",
        "colab": {
          "base_uri": "https://localhost:8080/",
          "height": 68
        },
        "outputId": "d83c3bc9-ea3d-466e-d82b-aaad93635a36"
      },
      "source": [
        "a=int(input())\n",
        "b=int(input())\n",
        "print(a+b , a-b, a/b, a//b, a%b, a**b)"
      ],
      "execution_count": 1,
      "outputs": [
        {
          "output_type": "stream",
          "text": [
            "3\n",
            "6\n",
            "9 -3 0.5 0 3 729\n"
          ],
          "name": "stdout"
        }
      ]
    },
    {
      "cell_type": "markdown",
      "metadata": {
        "id": "Vj_X8fpWKsWL",
        "colab_type": "text"
      },
      "source": [
        "Program to calculate simple interest"
      ]
    },
    {
      "cell_type": "code",
      "metadata": {
        "id": "v7CmPOVrKf1H",
        "colab_type": "code",
        "colab": {
          "base_uri": "https://localhost:8080/",
          "height": 85
        },
        "outputId": "afd317bc-b199-4d01-c27a-d8a19a438556"
      },
      "source": [
        "p=int(input())\n",
        "t=int(input())\n",
        "r=int(input())\n",
        "print((p*t*r)/100)"
      ],
      "execution_count": 2,
      "outputs": [
        {
          "output_type": "stream",
          "text": [
            "5\n",
            "5\n",
            "10\n",
            "2.5\n"
          ],
          "name": "stdout"
        }
      ]
    },
    {
      "cell_type": "markdown",
      "metadata": {
        "id": "_A6hnzNELcB3",
        "colab_type": "text"
      },
      "source": [
        "Program to calculate the area of a circle"
      ]
    },
    {
      "cell_type": "code",
      "metadata": {
        "id": "udfOA7_2LnTV",
        "colab_type": "code",
        "colab": {
          "base_uri": "https://localhost:8080/",
          "height": 51
        },
        "outputId": "6618ed77-4474-4549-803a-eea9dced3619"
      },
      "source": [
        "radius=float(input())\n",
        "print('area of circle is', 3.14*radius**2)"
      ],
      "execution_count": 5,
      "outputs": [
        {
          "output_type": "stream",
          "text": [
            "3\n",
            "area of circle is 28.26\n"
          ],
          "name": "stdout"
        }
      ]
    },
    {
      "cell_type": "markdown",
      "metadata": {
        "id": "W1AZDEm5MRqQ",
        "colab_type": "text"
      },
      "source": [
        "Program to calculate area of Triangle"
      ]
    },
    {
      "cell_type": "code",
      "metadata": {
        "id": "xW2wdwZ5ME9P",
        "colab_type": "code",
        "colab": {
          "base_uri": "https://localhost:8080/",
          "height": 68
        },
        "outputId": "c605ed1f-c174-4451-d597-0dc90c3daa5a"
      },
      "source": [
        "breadth=int(input())\n",
        "length=int(input())\n",
        "print(\"area of triangle is\",(1/2)*breadth*length)"
      ],
      "execution_count": 6,
      "outputs": [
        {
          "output_type": "stream",
          "text": [
            "3\n",
            "5\n",
            "area of triangle is 7.5\n"
          ],
          "name": "stdout"
        }
      ]
    },
    {
      "cell_type": "markdown",
      "metadata": {
        "id": "sPIAWwb9M3sq",
        "colab_type": "text"
      },
      "source": [
        "Write a python program to temperature in celsius to Fahrenheit "
      ]
    },
    {
      "cell_type": "code",
      "metadata": {
        "id": "-bBSvTqoMwH0",
        "colab_type": "code",
        "colab": {
          "base_uri": "https://localhost:8080/",
          "height": 51
        },
        "outputId": "b795e084-41a6-48f3-dc96-1acb88ecbfda"
      },
      "source": [
        "celsius=float(input())\n",
        "print('after conversion in Fahrenheit is', celsius*1.8+32)"
      ],
      "execution_count": 7,
      "outputs": [
        {
          "output_type": "stream",
          "text": [
            "37.5\n",
            "after conversion in Fahrenheit is 99.5\n"
          ],
          "name": "stdout"
        }
      ]
    },
    {
      "cell_type": "markdown",
      "metadata": {
        "id": "c9vjIKUANtDk",
        "colab_type": "text"
      },
      "source": [
        "Program to calculate area of rectangle"
      ]
    },
    {
      "cell_type": "code",
      "metadata": {
        "id": "-4tFaIk1NopK",
        "colab_type": "code",
        "colab": {
          "base_uri": "https://localhost:8080/",
          "height": 68
        },
        "outputId": "ef6adb3b-cc60-4440-a77b-01a65318d357"
      },
      "source": [
        "length=int(input())\n",
        "breadth=int(input())\n",
        "print(\"area of rectangle is\",length*breadth)"
      ],
      "execution_count": 8,
      "outputs": [
        {
          "output_type": "stream",
          "text": [
            "2\n",
            "3\n",
            "area of rectangle is 6\n"
          ],
          "name": "stdout"
        }
      ]
    },
    {
      "cell_type": "markdown",
      "metadata": {
        "id": "pD3cHTXjOMkP",
        "colab_type": "text"
      },
      "source": [
        "Program to calculate perimeter of square"
      ]
    },
    {
      "cell_type": "code",
      "metadata": {
        "id": "PoOXjT_nOHx3",
        "colab_type": "code",
        "colab": {
          "base_uri": "https://localhost:8080/",
          "height": 51
        },
        "outputId": "ec54dc53-4c23-4d62-9173-a06dc129be50"
      },
      "source": [
        "a=int(input())\n",
        "print(\"perimeter of a square is\", 4*a)"
      ],
      "execution_count": 9,
      "outputs": [
        {
          "output_type": "stream",
          "text": [
            "3\n",
            "perimeter of a square is 12\n"
          ],
          "name": "stdout"
        }
      ]
    },
    {
      "cell_type": "markdown",
      "metadata": {
        "id": "6rfgrtvcOgLM",
        "colab_type": "text"
      },
      "source": [
        "Program to calculate circumference of a circle"
      ]
    },
    {
      "cell_type": "code",
      "metadata": {
        "id": "SnMV8wkEOdNH",
        "colab_type": "code",
        "colab": {
          "base_uri": "https://localhost:8080/",
          "height": 51
        },
        "outputId": "f6961fbf-f926-44ce-a387-3d039e791c8f"
      },
      "source": [
        "radius=float(input())\n",
        "print(\"circumference of a circle is\", 2*3.14*radius)"
      ],
      "execution_count": 10,
      "outputs": [
        {
          "output_type": "stream",
          "text": [
            "7.6\n",
            "circumference of a circle is 47.728\n"
          ],
          "name": "stdout"
        }
      ]
    },
    {
      "cell_type": "markdown",
      "metadata": {
        "id": "mpTFMycQO73P",
        "colab_type": "text"
      },
      "source": [
        "Program to swap two numbers"
      ]
    },
    {
      "cell_type": "code",
      "metadata": {
        "id": "CwnVFuTmO2iV",
        "colab_type": "code",
        "colab": {
          "base_uri": "https://localhost:8080/",
          "height": 68
        },
        "outputId": "72a67fa4-92ed-4686-bb8c-125f56dfe04a"
      },
      "source": [
        "a=int(input())\n",
        "b=int(input())\n",
        "temp=a\n",
        "a=b\n",
        "b=temp\n",
        "print(\"after swapping the values are\", a, b)"
      ],
      "execution_count": 11,
      "outputs": [
        {
          "output_type": "stream",
          "text": [
            "2\n",
            "3\n",
            "after swapping the values are 3 2\n"
          ],
          "name": "stdout"
        }
      ]
    },
    {
      "cell_type": "code",
      "metadata": {
        "id": "RkMZBrw1PWFu",
        "colab_type": "code",
        "colab": {}
      },
      "source": [
        ""
      ],
      "execution_count": null,
      "outputs": []
    }
  ]
}