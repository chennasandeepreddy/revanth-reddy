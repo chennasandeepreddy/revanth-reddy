{
  "nbformat": 4,
  "nbformat_minor": 0,
  "metadata": {
    "colab": {
      "name": "Assignment3.ipynb",
      "provenance": [],
      "authorship_tag": "ABX9TyMXz+eaPvitCsNd6CpD88Tp",
      "include_colab_link": true
    },
    "kernelspec": {
      "name": "python3",
      "display_name": "Python 3"
    }
  },
  "cells": [
    {
      "cell_type": "markdown",
      "metadata": {
        "id": "view-in-github",
        "colab_type": "text"
      },
      "source": [
        "<a href=\"https://colab.research.google.com/github/revanth1408/revanth-reddy/blob/master/Assignment3.ipynb\" target=\"_parent\"><img src=\"https://colab.research.google.com/assets/colab-badge.svg\" alt=\"Open In Colab\"/></a>"
      ]
    },
    {
      "cell_type": "code",
      "metadata": {
        "id": "JLxBUhWACdy8",
        "colab_type": "code",
        "colab": {}
      },
      "source": [
        ""
      ],
      "execution_count": null,
      "outputs": []
    },
    {
      "cell_type": "markdown",
      "metadata": {
        "id": "vmiYwTrrCgm9",
        "colab_type": "text"
      },
      "source": [
        "1. Take two inputs from user and check whether they are equal or not"
      ]
    },
    {
      "cell_type": "code",
      "metadata": {
        "id": "zDOsguXOC_FW",
        "colab_type": "code",
        "colab": {
          "base_uri": "https://localhost:8080/",
          "height": 68
        },
        "outputId": "67795c99-2679-41d8-acd8-54ef6f8eb0b6"
      },
      "source": [
        "a=input('first number')\n",
        "b=input('second number')\n",
        "if a==b:\n",
        "  print(\"Both inputs are equal\")\n",
        "else:\n",
        "  print(\"Both inputs are not equal\")  "
      ],
      "execution_count": 1,
      "outputs": [
        {
          "output_type": "stream",
          "text": [
            "first number20\n",
            "second number10\n",
            "Both inputs are not equal\n"
          ],
          "name": "stdout"
        }
      ]
    },
    {
      "cell_type": "code",
      "metadata": {
        "id": "AnLhz3FAD2UU",
        "colab_type": "code",
        "colab": {}
      },
      "source": [
        ""
      ],
      "execution_count": null,
      "outputs": []
    },
    {
      "cell_type": "code",
      "metadata": {
        "id": "jXVZ2NT1CssU",
        "colab_type": "code",
        "colab": {
          "base_uri": "https://localhost:8080/",
          "height": 68
        },
        "outputId": "b888e7bd-ffa5-4364-c45a-d90ff8a63d76"
      },
      "source": [
        "a=input('first number')\n",
        "b=input('second number')\n",
        "if a==b:\n",
        "  print(\"Both inputs are equal\")\n",
        "else:\n",
        "  print(\"Both inputs are not equal\") "
      ],
      "execution_count": 2,
      "outputs": [
        {
          "output_type": "stream",
          "text": [
            "first number10\n",
            "second number10\n",
            "Both inputs are equal\n"
          ],
          "name": "stdout"
        }
      ]
    },
    {
      "cell_type": "markdown",
      "metadata": {
        "id": "q-EoBE2sD9h7",
        "colab_type": "text"
      },
      "source": [
        "2. Take three inputs from user and check:\n",
        "        i. all are equal\n",
        "        ii. any of two are equal\n",
        "        (use and,or)"
      ]
    },
    {
      "cell_type": "code",
      "metadata": {
        "id": "R2iL9c8agqKg",
        "colab_type": "code",
        "colab": {
          "base_uri": "https://localhost:8080/",
          "height": 85
        },
        "outputId": "5ce56c1e-7b33-440e-d707-cb470dfd35f5"
      },
      "source": [
        "n1=input()\n",
        "n2=input()\n",
        "n3=input()\n",
        "if n1==n2==n3:\n",
        "  print(\"all are equal\")\n",
        "elif n1==n2 or n2==n3 or n1==n3:\n",
        "  print(\"any of two are equal\")\n",
        "else:\n",
        "  print(\"none of them are equal\")    \n"
      ],
      "execution_count": 2,
      "outputs": [
        {
          "output_type": "stream",
          "text": [
            "re\n",
            "va\n",
            "nth\n",
            "none of them are equal\n"
          ],
          "name": "stdout"
        }
      ]
    },
    {
      "cell_type": "markdown",
      "metadata": {
        "id": "dmL1ufvhFR-8",
        "colab_type": "text"
      },
      "source": [
        "3. Take two numbers and check whether the sum is greater than 5,Less than 5 or equal to 5"
      ]
    },
    {
      "cell_type": "code",
      "metadata": {
        "id": "XXv9Y7G9iYeW",
        "colab_type": "code",
        "colab": {
          "base_uri": "https://localhost:8080/",
          "height": 68
        },
        "outputId": "23d64e66-7358-43fa-dafe-018efb6e77eb"
      },
      "source": [
        "n1=int(input())\n",
        "n2=int(input())\n",
        "if n1+n2>5:\n",
        "  print(\"Their sum is Greater than 5\")\n",
        "elif n1+n2<5:\n",
        "  print(\"Their sum is less than 5\")\n",
        "else:\n",
        "  print(\"They are equal\")"
      ],
      "execution_count": 3,
      "outputs": [
        {
          "output_type": "stream",
          "text": [
            "5\n",
            "3\n",
            "Their sum is Greater than 5\n"
          ],
          "name": "stdout"
        }
      ]
    },
    {
      "cell_type": "markdown",
      "metadata": {
        "id": "hIkGvyi7igPH",
        "colab_type": "text"
      },
      "source": [
        "4. Suppose passing marks of a subject is 35. Take input of marks from user and check whether it is greater than passing marks or not."
      ]
    },
    {
      "cell_type": "code",
      "metadata": {
        "id": "fjvBBr9pi5S6",
        "colab_type": "code",
        "colab": {
          "base_uri": "https://localhost:8080/",
          "height": 51
        },
        "outputId": "c171c6be-528f-415c-fbe1-b0e7c8339d80"
      },
      "source": [
        "Mat=int(input(\"marks\"))\n",
        "if Mat>35:\n",
        "  print(\"Greater than pass marks\")\n",
        "elif Mat<35:\n",
        "  print(\"Less than pass marks\")\n",
        "else:\n",
        "  print(\"Equal marks\")    "
      ],
      "execution_count": 4,
      "outputs": [
        {
          "output_type": "stream",
          "text": [
            "marks45\n",
            "Greater than pass marks\n"
          ],
          "name": "stdout"
        }
      ]
    },
    {
      "cell_type": "code",
      "metadata": {
        "id": "RGfnzyU2jjr1",
        "colab_type": "code",
        "colab": {
          "base_uri": "https://localhost:8080/",
          "height": 51
        },
        "outputId": "41463bfc-cee6-45fd-a00c-16f045421bdd"
      },
      "source": [
        "Mat=int(input(\"marks\"))\n",
        "if Mat>35:\n",
        "  print(\"Greater than pass marks\")\n",
        "elif Mat<35:\n",
        "  print(\"Less than pass marks\")\n",
        "else:\n",
        "  print(\"Equal marks\")    "
      ],
      "execution_count": 5,
      "outputs": [
        {
          "output_type": "stream",
          "text": [
            "marks35\n",
            "Equal marks\n"
          ],
          "name": "stdout"
        }
      ]
    },
    {
      "cell_type": "code",
      "metadata": {
        "id": "P83bea6yjb7F",
        "colab_type": "code",
        "colab": {}
      },
      "source": [
        ""
      ],
      "execution_count": null,
      "outputs": []
    },
    {
      "cell_type": "markdown",
      "metadata": {
        "id": "QMQ_kCa2jww3",
        "colab_type": "text"
      },
      "source": [
        "5. Write a Python function to find the max of three numbers"
      ]
    },
    {
      "cell_type": "code",
      "metadata": {
        "id": "M43hqxlbj4Iy",
        "colab_type": "code",
        "colab": {
          "base_uri": "https://localhost:8080/",
          "height": 85
        },
        "outputId": "2c52f6df-93fa-4984-c60c-f939b81dc4a6"
      },
      "source": [
        "N1=int(input())\n",
        "N2=int(input())\n",
        "N3=int(input())\n",
        "if N1>N2 and N1>N3:\n",
        "  print(\"N1  is Greater than\",N1)\n",
        "elif N2>N3:\n",
        "  print(\"N2 is Greater than\",N2)\n",
        "else:\n",
        "  print(\"N3 is Greater than\",N3)  \n"
      ],
      "execution_count": 8,
      "outputs": [
        {
          "output_type": "stream",
          "text": [
            "5\n",
            "7\n",
            "10\n",
            "N3 is Greater than 10\n"
          ],
          "name": "stdout"
        }
      ]
    },
    {
      "cell_type": "code",
      "metadata": {
        "id": "aSKmV1-FlCyM",
        "colab_type": "code",
        "colab": {}
      },
      "source": [
        ""
      ],
      "execution_count": null,
      "outputs": []
    }
  ]
}