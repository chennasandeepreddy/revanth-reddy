{
  "nbformat": 4,
  "nbformat_minor": 0,
  "metadata": {
    "colab": {
      "name": "Assignment1module3.ipynb",
      "provenance": [],
      "authorship_tag": "ABX9TyMVCN2rpL458EjcP0B097+W",
      "include_colab_link": true
    },
    "kernelspec": {
      "name": "python3",
      "display_name": "Python 3"
    }
  },
  "cells": [
    {
      "cell_type": "markdown",
      "metadata": {
        "id": "view-in-github",
        "colab_type": "text"
      },
      "source": [
        "<a href=\"https://colab.research.google.com/github/revanth1408/revanth-reddy/blob/master/Assignment1module3.ipynb\" target=\"_parent\"><img src=\"https://colab.research.google.com/assets/colab-badge.svg\" alt=\"Open In Colab\"/></a>"
      ]
    },
    {
      "cell_type": "markdown",
      "metadata": {
        "id": "sEhF5T_LoYoZ",
        "colab_type": "text"
      },
      "source": [
        "1. Convert Binary number to decimal \n",
        "     Ex: 1 0 0 1 0 =1 x 2 5 + 0 x 2 4 + 0 x 2 3 + 1 x 2 2 + 0 x 2 1 \n"
      ]
    },
    {
      "cell_type": "code",
      "metadata": {
        "id": "2RQPpsxdobtD",
        "colab_type": "code",
        "colab": {
          "base_uri": "https://localhost:8080/",
          "height": 129
        },
        "outputId": "8a582a70-461b-4f42-cb53-c67e9aca922b"
      },
      "source": [
        "a=int(input(\"Enter a number\"))\n",
        "k=str(a)\n",
        "c=len(k)-1\n",
        "print(c)\n",
        "while (i!=c):\n",
        "  for(i=0;i>n;i++):\n",
        "    a=math.pow(2,n)\n",
        "print(a)\n",
        "\n"
      ],
      "execution_count": null,
      "outputs": [
        {
          "output_type": "error",
          "ename": "SyntaxError",
          "evalue": "ignored",
          "traceback": [
            "\u001b[0;36m  File \u001b[0;32m\"<ipython-input-7-2a1e60bb338f>\"\u001b[0;36m, line \u001b[0;32m6\u001b[0m\n\u001b[0;31m    for(i=0;i>n;i++):\u001b[0m\n\u001b[0m         ^\u001b[0m\n\u001b[0;31mSyntaxError\u001b[0m\u001b[0;31m:\u001b[0m invalid syntax\n"
          ]
        }
      ]
    },
    {
      "cell_type": "markdown",
      "metadata": {
        "id": "SvPOg8UL-Kkq",
        "colab_type": "text"
      },
      "source": [
        "2. Generate first N number of Fibonacci numbers. Take N value from user "
      ]
    },
    {
      "cell_type": "code",
      "metadata": {
        "id": "Dum4nJw3-NVp",
        "colab_type": "code",
        "colab": {
          "base_uri": "https://localhost:8080/",
          "height": 34
        },
        "outputId": "adcd0c2b-5d03-4360-e2f1-49bb62403003"
      },
      "source": [
        "def fibonacci(n):\n",
        "  if n<0:\n",
        "    print('incorrect input')\n",
        "  elif n==1:\n",
        "    return 0\n",
        "  elif n==2:\n",
        "    return 1\n",
        "  else:\n",
        "    return fibonacci(n-1)+fibonacci(n-2)\n",
        "print(fibonacci(9))\n"
      ],
      "execution_count": null,
      "outputs": [
        {
          "output_type": "stream",
          "text": [
            "21\n"
          ],
          "name": "stdout"
        }
      ]
    },
    {
      "cell_type": "markdown",
      "metadata": {
        "id": "AnzHsO8553pn",
        "colab_type": "text"
      },
      "source": [
        "3. Display multiplication table of K. Take k value from user \n",
        "    Ex: 7 x 1 =7 \n",
        "     7 x 2 = 14 ..... \n"
      ]
    },
    {
      "cell_type": "code",
      "metadata": {
        "id": "QBO1S-eQ4wxE",
        "colab_type": "code",
        "colab": {
          "base_uri": "https://localhost:8080/",
          "height": 204
        },
        "outputId": "04380075-b031-4b45-8761-42316fef2366"
      },
      "source": [
        "n=int(input(\"enter a number to display its multiplication table\"))\n",
        "for i in range(1,11):\n",
        "  print(n,'X',i,'=',n*i)"
      ],
      "execution_count": null,
      "outputs": [
        {
          "output_type": "stream",
          "text": [
            "enter a number to display its multiplication table5\n",
            "5 X 1 = 5\n",
            "5 X 2 = 10\n",
            "5 X 3 = 15\n",
            "5 X 4 = 20\n",
            "5 X 5 = 25\n",
            "5 X 6 = 30\n",
            "5 X 7 = 35\n",
            "5 X 8 = 40\n",
            "5 X 9 = 45\n",
            "5 X 10 = 50\n"
          ],
          "name": "stdout"
        }
      ]
    },
    {
      "cell_type": "markdown",
      "metadata": {
        "id": "UtfxiacW5_PH",
        "colab_type": "text"
      },
      "source": [
        "4. Write a program to find greatest common divisor (GCD) or highest common factor (HCF) of given two numbers. "
      ]
    },
    {
      "cell_type": "code",
      "metadata": {
        "id": "_79MX-rD6DZI",
        "colab_type": "code",
        "colab": {
          "base_uri": "https://localhost:8080/",
          "height": 34
        },
        "outputId": "678a2c9e-7a45-4caa-b0c4-fe72ffae4478"
      },
      "source": [
        "def gcd(a,b):\n",
        "  if (a==0 or b==0):\n",
        "    false\n",
        "  if (a==b):\n",
        "    return a\n",
        "  if (a>b):\n",
        "    return gcd(a-b,b)\n",
        "  return gcd(a,b-a)\n",
        "a=10\n",
        "b=15\n",
        "if (gcd(a,b)):\n",
        "  print('GCD of',a,'and',b,'is',gcd(a,b))\n",
        "else:\n",
        "  print('Not found')\n"
      ],
      "execution_count": null,
      "outputs": [
        {
          "output_type": "stream",
          "text": [
            "GCD of 10 and 15 is 5\n"
          ],
          "name": "stdout"
        }
      ]
    },
    {
      "cell_type": "markdown",
      "metadata": {
        "id": "YBkNvtbnfA8h",
        "colab_type": "text"
      },
      "source": [
        "6. Write a Python program that accepts a word from the user and reverse it "
      ]
    },
    {
      "cell_type": "code",
      "metadata": {
        "id": "lOwno5Hoe9A-",
        "colab_type": "code",
        "colab": {
          "base_uri": "https://localhost:8080/",
          "height": 51
        },
        "outputId": "e0cf392c-8b41-4f4b-9387-84dbb59d2207"
      },
      "source": [
        "word=input(\"word is\")\n",
        "revword=word[-1::-1]\n",
        "print(\"the reverse word is\",revword)"
      ],
      "execution_count": null,
      "outputs": [
        {
          "output_type": "stream",
          "text": [
            "word isdad\n",
            "the reverse word is dad\n"
          ],
          "name": "stdout"
        }
      ]
    },
    {
      "cell_type": "markdown",
      "metadata": {
        "id": "r8XxdC1nsn0z",
        "colab_type": "text"
      },
      "source": [
        "7. Write a Python program to count the number of even and odd numbers from a series of numbers. "
      ]
    },
    {
      "cell_type": "code",
      "metadata": {
        "id": "Nr8-bhRMfy9t",
        "colab_type": "code",
        "colab": {
          "base_uri": "https://localhost:8080/",
          "height": 51
        },
        "outputId": "6a5a21a1-c489-442a-95e0-6be68a37382b"
      },
      "source": [
        "numbers=(1,2,3,4,5,6,7,8,9)\n",
        "count_odd=0\n",
        "count_even=0\n",
        "for x in numbers:\n",
        "  if not x%2:\n",
        "    count_even+=1\n",
        "  else:\n",
        "    count_odd+=1\n",
        "print(\"no.of even numbers\",count_even)\n",
        "print(\"no.of odd numbers\",count_odd)"
      ],
      "execution_count": null,
      "outputs": [
        {
          "output_type": "stream",
          "text": [
            "no.of even numbers 4\n",
            "no.of odd numbers 5\n"
          ],
          "name": "stdout"
        }
      ]
    },
    {
      "cell_type": "markdown",
      "metadata": {
        "id": "ccRcvpbwtVgT",
        "colab_type": "text"
      },
      "source": [
        "8. Write a Python program that prints all the numbers from 0 to 6 except 3 and 6. "
      ]
    },
    {
      "cell_type": "code",
      "metadata": {
        "id": "MEpZl1wVspES",
        "colab_type": "code",
        "colab": {
          "base_uri": "https://localhost:8080/",
          "height": 34
        },
        "outputId": "926f2ce2-6ff5-4e4e-9c78-e528506ba9ce"
      },
      "source": [
        "for i in range(6):\n",
        "  if(i==3 or i==6):\n",
        "    continue\n",
        "  print(i,end='')"
      ],
      "execution_count": null,
      "outputs": [
        {
          "output_type": "stream",
          "text": [
            "01245"
          ],
          "name": "stdout"
        }
      ]
    },
    {
      "cell_type": "code",
      "metadata": {
        "id": "71P5mj05tbza",
        "colab_type": "code",
        "colab": {}
      },
      "source": [
        ""
      ],
      "execution_count": null,
      "outputs": []
    }
  ]
}