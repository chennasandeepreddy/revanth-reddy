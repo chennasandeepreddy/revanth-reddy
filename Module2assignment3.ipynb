{
  "nbformat": 4,
  "nbformat_minor": 0,
  "metadata": {
    "colab": {
      "name": "Module2assignment3.ipynb",
      "provenance": [],
      "authorship_tag": "ABX9TyPEKvkPI7Tz/UoHOOeaIyxm",
      "include_colab_link": true
    },
    "kernelspec": {
      "name": "python3",
      "display_name": "Python 3"
    }
  },
  "cells": [
    {
      "cell_type": "markdown",
      "metadata": {
        "id": "view-in-github",
        "colab_type": "text"
      },
      "source": [
        "<a href=\"https://colab.research.google.com/github/revanth1408/revanth-reddy/blob/master/Module2assignment3.ipynb\" target=\"_parent\"><img src=\"https://colab.research.google.com/assets/colab-badge.svg\" alt=\"Open In Colab\"/></a>"
      ]
    },
    {
      "cell_type": "code",
      "metadata": {
        "id": "jZmkn3WTrWr8",
        "colab_type": "code",
        "colab": {}
      },
      "source": [
        ""
      ],
      "execution_count": null,
      "outputs": []
    },
    {
      "cell_type": "markdown",
      "metadata": {
        "id": "68NIc-Ferof9",
        "colab_type": "text"
      },
      "source": [
        "Write a python program to find area of a circle using math function"
      ]
    },
    {
      "cell_type": "code",
      "metadata": {
        "id": "7na1WEKwryIA",
        "colab_type": "code",
        "colab": {
          "base_uri": "https://localhost:8080/",
          "height": 51
        },
        "outputId": "57316c84-67d5-42c2-d09d-47bb2ca75647"
      },
      "source": [
        "import math\n",
        "r=float(input(\"enter the radius of a circle\"))\n",
        "area=math.pi*r*r\n",
        "print(\"%2.f\" %area)"
      ],
      "execution_count": 1,
      "outputs": [
        {
          "output_type": "stream",
          "text": [
            "enter the radius of a circle6\n",
            "113\n"
          ],
          "name": "stdout"
        }
      ]
    },
    {
      "cell_type": "markdown",
      "metadata": {
        "id": "eUSg_gzdsk6t",
        "colab_type": "text"
      },
      "source": [
        "Write a python program to find area of Regular Polygon using math function"
      ]
    },
    {
      "cell_type": "code",
      "metadata": {
        "id": "xwCuX9O_sbJM",
        "colab_type": "code",
        "colab": {
          "base_uri": "https://localhost:8080/",
          "height": 68
        },
        "outputId": "598911cb-95ff-4678-dd34-df24d43a704b"
      },
      "source": [
        "from math import tan\n",
        "n=int(input(\"no of sides is\"))\n",
        "s=int(input())\n",
        "area=((n*s)/(4*tan(3.14/n)))\n",
        "print(area)"
      ],
      "execution_count": 2,
      "outputs": [
        {
          "output_type": "stream",
          "text": [
            "no of sides is3\n",
            "5\n",
            "2.1677187462070617\n"
          ],
          "name": "stdout"
        }
      ]
    },
    {
      "cell_type": "markdown",
      "metadata": {
        "id": "U-BTVuIlwcx9",
        "colab_type": "text"
      },
      "source": [
        "3.\tWrite a program to find Area of a Segment of a Circle Formulausing math function."
      ]
    },
    {
      "cell_type": "code",
      "metadata": {
        "id": "DL3LopvCwfzz",
        "colab_type": "code",
        "colab": {}
      },
      "source": [
        ""
      ],
      "execution_count": null,
      "outputs": []
    },
    {
      "cell_type": "markdown",
      "metadata": {
        "id": "56WVPVvSj92x",
        "colab_type": "text"
      },
      "source": [
        "4. Write a program to shuffle list l1=[100,1,2,3,30,40,\"hai\",\"Hello\"]"
      ]
    },
    {
      "cell_type": "code",
      "metadata": {
        "id": "Wv0xPgY0kTRE",
        "colab_type": "code",
        "colab": {
          "base_uri": "https://localhost:8080/",
          "height": 34
        },
        "outputId": "b0f1d3a2-5763-4739-efa1-b3d3e302c9c8"
      },
      "source": [
        "import random\n",
        "List=[100,1,2,3,30,40,\"hai\",\"hello\"];\n",
        "random.shuffle(List)\n",
        "print(List)"
      ],
      "execution_count": 3,
      "outputs": [
        {
          "output_type": "stream",
          "text": [
            "[30, 'hello', 'hai', 3, 2, 100, 1, 40]\n"
          ],
          "name": "stdout"
        }
      ]
    },
    {
      "cell_type": "code",
      "metadata": {
        "id": "bELkRAhknB0n",
        "colab_type": "code",
        "colab": {}
      },
      "source": [
        ""
      ],
      "execution_count": null,
      "outputs": []
    },
    {
      "cell_type": "markdown",
      "metadata": {
        "id": "i8O3DOm5nI3K",
        "colab_type": "text"
      },
      "source": [
        "Write a p[rogram to generate random numbers between 110000 and difference between them is 50"
      ]
    },
    {
      "cell_type": "code",
      "metadata": {
        "id": "80b-76-knXmw",
        "colab_type": "code",
        "colab": {
          "base_uri": "https://localhost:8080/",
          "height": 34
        },
        "outputId": "2178dccf-02b9-428d-9690-45f7897a9f85"
      },
      "source": [
        "import random\n",
        "print('random number with difference 50 is',random.randrange(0,110000,50))"
      ],
      "execution_count": 4,
      "outputs": [
        {
          "output_type": "stream",
          "text": [
            "random number with difference 50 is 22200\n"
          ],
          "name": "stdout"
        }
      ]
    },
    {
      "cell_type": "code",
      "metadata": {
        "id": "BnXuCVrKnul0",
        "colab_type": "code",
        "colab": {}
      },
      "source": [
        ""
      ],
      "execution_count": null,
      "outputs": []
    },
    {
      "cell_type": "markdown",
      "metadata": {
        "id": "ePpeCE-kzyxy",
        "colab_type": "text"
      },
      "source": [
        "6.\tWrite a python program by using math module to find\n",
        "    i.\tSin600\n",
        "    ii.\tcos(pi)\n",
        "    iii.\ttan900\n",
        "    iv.\tangle of sin(0.8660254037844386)\n",
        "    v.\t5^8\n",
        "    vi.\tSquare root of 400\n",
        "    vii.\tThe value of 5^e\n",
        "    viii.\tThe value of Log(1024), base 2\n",
        "    ix.\tThe value of Log(1024), base 10\n",
        "    x.\tThe Floor and Ceiling value of 23.56 \n"
      ]
    },
    {
      "cell_type": "code",
      "metadata": {
        "id": "tHcIzYDn0R_9",
        "colab_type": "code",
        "colab": {
          "base_uri": "https://localhost:8080/",
          "height": 34
        },
        "outputId": "189e1a63-fc24-44d2-bf51-5bf7d92055db"
      },
      "source": [
        "import math\n",
        "math.sin(600)"
      ],
      "execution_count": 13,
      "outputs": [
        {
          "output_type": "execute_result",
          "data": {
            "text/plain": [
              "0.044182448331873195"
            ]
          },
          "metadata": {
            "tags": []
          },
          "execution_count": 13
        }
      ]
    },
    {
      "cell_type": "code",
      "metadata": {
        "id": "0RU9hXum1Zw8",
        "colab_type": "code",
        "colab": {
          "base_uri": "https://localhost:8080/",
          "height": 34
        },
        "outputId": "f0ba1daa-1d87-4206-ec10-33d564a3864d"
      },
      "source": [
        "math.cos(math.pi)"
      ],
      "execution_count": 12,
      "outputs": [
        {
          "output_type": "execute_result",
          "data": {
            "text/plain": [
              "-1.0"
            ]
          },
          "metadata": {
            "tags": []
          },
          "execution_count": 12
        }
      ]
    },
    {
      "cell_type": "code",
      "metadata": {
        "id": "kgQ2rCFV1esL",
        "colab_type": "code",
        "colab": {
          "base_uri": "https://localhost:8080/",
          "height": 34
        },
        "outputId": "5a27dd6a-d39f-495c-9512-a530da8ddb98"
      },
      "source": [
        "math.tan(900)"
      ],
      "execution_count": 14,
      "outputs": [
        {
          "output_type": "execute_result",
          "data": {
            "text/plain": [
              "15.061931254510103"
            ]
          },
          "metadata": {
            "tags": []
          },
          "execution_count": 14
        }
      ]
    },
    {
      "cell_type": "code",
      "metadata": {
        "id": "T3USZTfV1lHR",
        "colab_type": "code",
        "colab": {
          "base_uri": "https://localhost:8080/",
          "height": 34
        },
        "outputId": "d2d819e8-9b85-451d-f75b-faa17fc4a78c"
      },
      "source": [
        "math.sin(0.8660254037844386)"
      ],
      "execution_count": 25,
      "outputs": [
        {
          "output_type": "execute_result",
          "data": {
            "text/plain": [
              "0.7617599814162892"
            ]
          },
          "metadata": {
            "tags": []
          },
          "execution_count": 25
        }
      ]
    },
    {
      "cell_type": "code",
      "metadata": {
        "id": "caOzm-ga4B45",
        "colab_type": "code",
        "colab": {
          "base_uri": "https://localhost:8080/",
          "height": 34
        },
        "outputId": "3f88b6c5-b0fc-42f2-b141-1904d14a3b5e"
      },
      "source": [
        "math.pow(5,8)"
      ],
      "execution_count": 27,
      "outputs": [
        {
          "output_type": "execute_result",
          "data": {
            "text/plain": [
              "390625.0"
            ]
          },
          "metadata": {
            "tags": []
          },
          "execution_count": 27
        }
      ]
    },
    {
      "cell_type": "code",
      "metadata": {
        "id": "tnEVnYaM4gTB",
        "colab_type": "code",
        "colab": {
          "base_uri": "https://localhost:8080/",
          "height": 34
        },
        "outputId": "eb65edeb-0a12-45cc-d02e-a27b736e5042"
      },
      "source": [
        "math.sqrt(400)"
      ],
      "execution_count": 19,
      "outputs": [
        {
          "output_type": "execute_result",
          "data": {
            "text/plain": [
              "20.0"
            ]
          },
          "metadata": {
            "tags": []
          },
          "execution_count": 19
        }
      ]
    },
    {
      "cell_type": "code",
      "metadata": {
        "id": "AHaz-Kek4kgR",
        "colab_type": "code",
        "colab": {
          "base_uri": "https://localhost:8080/",
          "height": 163
        },
        "outputId": "c512cd65-2459-43ee-ef71-cd5042eb1801"
      },
      "source": [
        "math.pow(5,e)"
      ],
      "execution_count": 31,
      "outputs": [
        {
          "output_type": "error",
          "ename": "NameError",
          "evalue": "ignored",
          "traceback": [
            "\u001b[0;31m---------------------------------------------------------------------------\u001b[0m",
            "\u001b[0;31mNameError\u001b[0m                                 Traceback (most recent call last)",
            "\u001b[0;32m<ipython-input-31-e4b0c858140b>\u001b[0m in \u001b[0;36m<module>\u001b[0;34m()\u001b[0m\n\u001b[0;32m----> 1\u001b[0;31m \u001b[0mmath\u001b[0m\u001b[0;34m.\u001b[0m\u001b[0mpow\u001b[0m\u001b[0;34m(\u001b[0m\u001b[0;36m5\u001b[0m\u001b[0;34m,\u001b[0m\u001b[0me\u001b[0m\u001b[0;34m)\u001b[0m\u001b[0;34m\u001b[0m\u001b[0;34m\u001b[0m\u001b[0m\n\u001b[0m",
            "\u001b[0;31mNameError\u001b[0m: name 'e' is not defined"
          ]
        }
      ]
    },
    {
      "cell_type": "code",
      "metadata": {
        "id": "qqHZaVuQ4tFi",
        "colab_type": "code",
        "colab": {
          "base_uri": "https://localhost:8080/",
          "height": 34
        },
        "outputId": "b3c07310-9c3b-4a93-c836-57b47c2935f9"
      },
      "source": [
        "math.log2(1024)"
      ],
      "execution_count": 21,
      "outputs": [
        {
          "output_type": "execute_result",
          "data": {
            "text/plain": [
              "10.0"
            ]
          },
          "metadata": {
            "tags": []
          },
          "execution_count": 21
        }
      ]
    },
    {
      "cell_type": "code",
      "metadata": {
        "id": "mrzsgH0544Wo",
        "colab_type": "code",
        "colab": {
          "base_uri": "https://localhost:8080/",
          "height": 34
        },
        "outputId": "0021e920-e7e7-418a-8fa7-4a3520dc5134"
      },
      "source": [
        "math.log10(1024)"
      ],
      "execution_count": 22,
      "outputs": [
        {
          "output_type": "execute_result",
          "data": {
            "text/plain": [
              "3.010299956639812"
            ]
          },
          "metadata": {
            "tags": []
          },
          "execution_count": 22
        }
      ]
    },
    {
      "cell_type": "code",
      "metadata": {
        "id": "4Z1UJhqi5Ajr",
        "colab_type": "code",
        "colab": {
          "base_uri": "https://localhost:8080/",
          "height": 34
        },
        "outputId": "34de1618-f990-46cf-edda-1cea4ee829f2"
      },
      "source": [
        "math.floor(23.56)"
      ],
      "execution_count": 23,
      "outputs": [
        {
          "output_type": "execute_result",
          "data": {
            "text/plain": [
              "23"
            ]
          },
          "metadata": {
            "tags": []
          },
          "execution_count": 23
        }
      ]
    },
    {
      "cell_type": "code",
      "metadata": {
        "id": "RrBC0FXF4wuV",
        "colab_type": "code",
        "colab": {
          "base_uri": "https://localhost:8080/",
          "height": 34
        },
        "outputId": "13a745f7-9029-4b4b-fdda-b0bf3ee4dc79"
      },
      "source": [
        "math.ceil(23.56)"
      ],
      "execution_count": 24,
      "outputs": [
        {
          "output_type": "execute_result",
          "data": {
            "text/plain": [
              "24"
            ]
          },
          "metadata": {
            "tags": []
          },
          "execution_count": 24
        }
      ]
    },
    {
      "cell_type": "code",
      "metadata": {
        "id": "6fVRrqAG5RJf",
        "colab_type": "code",
        "colab": {}
      },
      "source": [
        ""
      ],
      "execution_count": null,
      "outputs": []
    }
  ]
}