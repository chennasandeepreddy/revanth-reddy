{
  "nbformat": 4,
  "nbformat_minor": 0,
  "metadata": {
    "colab": {
      "name": "Assignment4.ipynb",
      "provenance": [],
      "authorship_tag": "ABX9TyNSPffXZ6pIF9ww/arXNa+o",
      "include_colab_link": true
    },
    "kernelspec": {
      "name": "python3",
      "display_name": "Python 3"
    }
  },
  "cells": [
    {
      "cell_type": "markdown",
      "metadata": {
        "id": "view-in-github",
        "colab_type": "text"
      },
      "source": [
        "<a href=\"https://colab.research.google.com/github/revanth1408/revanth-reddy/blob/master/Assignment4.ipynb\" target=\"_parent\"><img src=\"https://colab.research.google.com/assets/colab-badge.svg\" alt=\"Open In Colab\"/></a>"
      ]
    },
    {
      "cell_type": "code",
      "metadata": {
        "id": "ypg5Hksxo5Q1",
        "colab_type": "code",
        "colab": {}
      },
      "source": [
        ""
      ],
      "execution_count": null,
      "outputs": []
    },
    {
      "cell_type": "markdown",
      "metadata": {
        "id": "k9xOl_xCo8OS",
        "colab_type": "text"
      },
      "source": [
        "Write a Python function to find maximum of three numbers"
      ]
    },
    {
      "cell_type": "code",
      "metadata": {
        "id": "6ilgxrLepFH0",
        "colab_type": "code",
        "colab": {
          "base_uri": "https://localhost:8080/",
          "height": 85
        },
        "outputId": "74eb27ef-90b2-4ee9-87d3-2916b434e5f4"
      },
      "source": [
        "def add(a,b,c):\n",
        "  if a>b:\n",
        "    if a>c:\n",
        "      return a\n",
        "    else:\n",
        "      return c\n",
        "  elif b>c:\n",
        "    return b  \n",
        "  else:\n",
        "    return c  \n",
        "a=int(input())\n",
        "b=int(input())\n",
        "c=int(input()) \n",
        "max= add(a,b,c)\n",
        "print(max)\n"
      ],
      "execution_count": 11,
      "outputs": [
        {
          "output_type": "stream",
          "text": [
            "9\n",
            "1\n",
            "8\n",
            "9\n"
          ],
          "name": "stdout"
        }
      ]
    },
    {
      "cell_type": "code",
      "metadata": {
        "id": "CXft6pGiqGIx",
        "colab_type": "code",
        "colab": {}
      },
      "source": [
        ""
      ],
      "execution_count": null,
      "outputs": []
    },
    {
      "cell_type": "markdown",
      "metadata": {
        "id": "vNLRma0eskYL",
        "colab_type": "text"
      },
      "source": [
        "Write a Python Program to reverse a string"
      ]
    },
    {
      "cell_type": "code",
      "metadata": {
        "id": "JCHBsce2stFL",
        "colab_type": "code",
        "colab": {
          "base_uri": "https://localhost:8080/",
          "height": 34
        },
        "outputId": "7ae5b71b-6a52-4480-cc44-b01a95a79fb0"
      },
      "source": [
        "a=\"helloi\"\n",
        "print(a[::-1])\n"
      ],
      "execution_count": 16,
      "outputs": [
        {
          "output_type": "stream",
          "text": [
            "iolleh\n"
          ],
          "name": "stdout"
        }
      ]
    },
    {
      "cell_type": "code",
      "metadata": {
        "id": "AWn9ulZQtPPe",
        "colab_type": "code",
        "colab": {}
      },
      "source": [
        ""
      ],
      "execution_count": null,
      "outputs": []
    },
    {
      "cell_type": "markdown",
      "metadata": {
        "id": "WD8fvx7PudXV",
        "colab_type": "text"
      },
      "source": [
        "Write a Python function to check whether the number is prime or not"
      ]
    },
    {
      "cell_type": "code",
      "metadata": {
        "id": "qUOqgvpSuovR",
        "colab_type": "code",
        "colab": {
          "base_uri": "https://localhost:8080/",
          "height": 34
        },
        "outputId": "c644da0c-730b-4706-8427-8355a485a807"
      },
      "source": [
        "a=5\n",
        "if a>1:\n",
        "  for i in range (2,a):\n",
        "    if a%i==0:\n",
        "      print(\"not a Prime\")\n",
        "      break\n",
        "  else:\n",
        "    print(\"prime\")\n",
        "else:\n",
        "  print(\"not a Prime\")"
      ],
      "execution_count": 28,
      "outputs": [
        {
          "output_type": "stream",
          "text": [
            "prime\n"
          ],
          "name": "stdout"
        }
      ]
    },
    {
      "cell_type": "code",
      "metadata": {
        "id": "MMsJudU0vpbf",
        "colab_type": "code",
        "colab": {}
      },
      "source": [
        ""
      ],
      "execution_count": null,
      "outputs": []
    },
    {
      "cell_type": "markdown",
      "metadata": {
        "id": "9DKgsuqmyMvW",
        "colab_type": "text"
      },
      "source": [
        "Write a python function to find sum of squares of first n natural numbers"
      ]
    },
    {
      "cell_type": "code",
      "metadata": {
        "id": "j14Yi_mcy1c3",
        "colab_type": "code",
        "colab": {
          "base_uri": "https://localhost:8080/",
          "height": 34
        },
        "outputId": "43988431-8ca8-4698-ab26-80c8281665c8"
      },
      "source": [
        "def squaresum(n):\n",
        "  return (n*(n+1)/2)*(2*(n+1)/3)\n",
        "n=8\n",
        "print(squaresum(n))  "
      ],
      "execution_count": 31,
      "outputs": [
        {
          "output_type": "stream",
          "text": [
            "216.0\n"
          ],
          "name": "stdout"
        }
      ]
    },
    {
      "cell_type": "code",
      "metadata": {
        "id": "6SLktPNt0sVB",
        "colab_type": "code",
        "colab": {}
      },
      "source": [
        ""
      ],
      "execution_count": null,
      "outputs": []
    }
  ]
}